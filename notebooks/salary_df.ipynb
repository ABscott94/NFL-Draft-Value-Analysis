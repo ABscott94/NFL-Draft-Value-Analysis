{
 "cells": [
  {
   "cell_type": "code",
   "execution_count": null,
   "id": "fa913f99",
   "metadata": {},
   "outputs": [],
   "source": [
    "import pandas as pd\n",
    "import numpy as np\n",
    "import matplotlib.pyplot as plt\n",
    "\n",
    "%matplotlib inline\n",
    "\n",
    "#Running previous salary notebooks to get those dataframes to combine into one\n",
    "\n",
    "%run salary_ed_scrape.ipynb #1\n",
    "%run salary_rg_scrape.ipynb #2\n",
    "%run salary_p_scrape.ipynb #3\n",
    "%run salary_fb_scrape.ipynb #4\n",
    "%run salary_te_scrape.ipynb #5\n",
    "%run salary_rt_scrape.ipynb #6\n",
    "%run salary_c_scrape.ipynb #7\n",
    "%run salary_lb_scrape.ipynb #8\n",
    "%run salary_dl_scrape.ipynb #9\n",
    "%run salary_wr_scrape.ipynb #10\n",
    "%run salary_lg_scrape.ipynb #11\n",
    "%run salary_lt_scrape.ipynb #12\n",
    "%run salary_ls_scrape.ipynb #13\n",
    "%run salary_k_scrape.ipynb #14\n",
    "%run salary_s_scrape.ipynb #15\n",
    "%run salary_qb_scrape.ipynb #16\n",
    "%run salary_rb_scrape.ipynb #17\n",
    "%run salary_cb_scrape.ipynb #18"
   ]
  },
  {
   "cell_type": "code",
   "execution_count": null,
   "id": "f2f8116b",
   "metadata": {},
   "outputs": [],
   "source": [
    "frames = [salary_qb, salary_rb, salary_fb, salary_wr, salary_te, salary_lt, salary_lg, salary_c, salary_rg, salary_rt, salary_dl, salary_ed, salary_lb, salary_s, salary_cb, salary_k, salary_p, salary_ls]\n",
    "\n",
    "salary_df = pd.concat(frames)"
   ]
  },
  {
   "cell_type": "code",
   "execution_count": null,
   "id": "088c3066",
   "metadata": {},
   "outputs": [],
   "source": [
    "salary_df.info()"
   ]
  },
  {
   "cell_type": "code",
   "execution_count": null,
   "id": "74be75a4",
   "metadata": {},
   "outputs": [],
   "source": [
    "salary_df.head(60)"
   ]
  },
  {
   "cell_type": "code",
   "execution_count": null,
   "id": "2093f715",
   "metadata": {},
   "outputs": [],
   "source": [
    "#need to export as csv to import to postgres to run some more data analysis\n",
    "\n",
    "from pathlib import Path\n",
    "\n",
    "filepath = Path('out.csv')\n",
    "filepath.parent.mkdir(parents = True, exist_ok = True)\n",
    "salary_df.to_csv(filepath)"
   ]
  },
  {
   "cell_type": "code",
   "execution_count": null,
   "id": "911225b3",
   "metadata": {},
   "outputs": [],
   "source": [
    "salary_df.info()"
   ]
  },
  {
   "cell_type": "code",
   "execution_count": null,
   "id": "008810b5",
   "metadata": {},
   "outputs": [],
   "source": [
    "salary_df = salary_df[['Player', 'Year Signed', 'Team', 'Years', 'Value', 'APY', 'Guaranteed', 'APY as % Of Cap At Signing', 'Inflated Value', 'Inflated APY', 'Inflated Guaranteed']]\n",
    "salary_df.head()"
   ]
  },
  {
   "cell_type": "code",
   "execution_count": null,
   "id": "52c6bfd5",
   "metadata": {},
   "outputs": [],
   "source": []
  }
 ],
 "metadata": {
  "kernelspec": {
   "display_name": "Python 3 (ipykernel)",
   "language": "python",
   "name": "python3"
  },
  "language_info": {
   "codemirror_mode": {
    "name": "ipython",
    "version": 3
   },
   "file_extension": ".py",
   "mimetype": "text/x-python",
   "name": "python",
   "nbconvert_exporter": "python",
   "pygments_lexer": "ipython3",
   "version": "3.9.7"
  }
 },
 "nbformat": 4,
 "nbformat_minor": 5
}
